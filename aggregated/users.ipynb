{
 "cells": [
  {
   "cell_type": "markdown",
   "id": "7476daa6",
   "metadata": {},
   "source": [
    "AGGREGATED Users data"
   ]
  },
  {
   "cell_type": "code",
   "execution_count": 1,
   "id": "85f8e90d",
   "metadata": {},
   "outputs": [],
   "source": [
    "import pandas as pd\n",
    "import json\n",
    "import os"
   ]
  },
  {
   "cell_type": "code",
   "execution_count": 4,
   "id": "dedf1dd4",
   "metadata": {},
   "outputs": [
    {
     "data": {
      "text/plain": [
       "['andaman-&-nicobar-islands',\n",
       " 'andhra-pradesh',\n",
       " 'arunachal-pradesh',\n",
       " 'assam',\n",
       " 'bihar',\n",
       " 'chandigarh',\n",
       " 'chhattisgarh',\n",
       " 'dadra-&-nagar-haveli-&-daman-&-diu',\n",
       " 'delhi',\n",
       " 'goa',\n",
       " 'gujarat',\n",
       " 'haryana',\n",
       " 'himachal-pradesh',\n",
       " 'jammu-&-kashmir',\n",
       " 'jharkhand',\n",
       " 'karnataka',\n",
       " 'kerala',\n",
       " 'ladakh',\n",
       " 'lakshadweep',\n",
       " 'madhya-pradesh',\n",
       " 'maharashtra',\n",
       " 'manipur',\n",
       " 'meghalaya',\n",
       " 'mizoram',\n",
       " 'nagaland',\n",
       " 'odisha',\n",
       " 'puducherry',\n",
       " 'punjab',\n",
       " 'rajasthan',\n",
       " 'sikkim',\n",
       " 'tamil-nadu',\n",
       " 'telangana',\n",
       " 'tripura',\n",
       " 'uttar-pradesh',\n",
       " 'uttarakhand',\n",
       " 'west-bengal']"
      ]
     },
     "execution_count": 4,
     "metadata": {},
     "output_type": "execute_result"
    }
   ],
   "source": [
    "path = \"../pulse/data/aggregated/user/country/india/state\"\n",
    "Aggr_list_path = os.listdir(path)\n",
    "Aggr_list_path"
   ]
  },
  {
   "cell_type": "code",
   "execution_count": null,
   "id": "0507b1ae",
   "metadata": {},
   "outputs": [],
   "source": [
    "clm = {'State':[], 'Year':[],'Quater':[],'Registered_Users':[],'App_opens':[], 'Brand':[], 'Count':[], 'Percentage':[]}\n",
    "\n",
    "for i in Aggr_list_path:\n",
    "    path_i = path + '/' + i\n",
    "    Aggr_path_i = os.listdir(path_i)\n",
    "    for j in Aggr_path_i:\n",
    "        path_j = path_i + '/' + j\n",
    "        Aggr_path_j = os.listdir(path_j)\n",
    "        for k in Aggr_path_j :\n",
    "            path_k = path_j + '/' + k\n",
    "            Data = open(path_k,'r')\n",
    "            D = json.load(Data)\n",
    "            registered_users = D['data']['aggregated']['registeredUsers']\n",
    "            app_opens = D['data']['aggregated']['appOpens']\n",
    "            users_by_device = D['data'].get('usersByDevice')\n",
    "            if users_by_device:\n",
    "                for z in users_by_device:\n",
    "                    Brand = z['brand']\n",
    "                    Count = z['count']\n",
    "                    Percentage = z['percentage']\n",
    "                    clm['Brand'].append(Brand)\n",
    "                    clm['Count'].append(Count)\n",
    "                    clm['Percentage'].append(Percentage)\n",
    "                    clm['State'].append(i)\n",
    "                    clm['Year'].append(j)\n",
    "                    clm['Quater'].append(int(k.strip('.json')))\n",
    "                    clm['Registered_Users'].append(registered_users)\n",
    "                    clm['App_opens'].append(app_opens)"
   ]
  },
  {
   "cell_type": "code",
   "execution_count": 9,
   "id": "d7ce4ead",
   "metadata": {},
   "outputs": [
    {
     "data": {
      "text/html": [
       "<div>\n",
       "<style scoped>\n",
       "    .dataframe tbody tr th:only-of-type {\n",
       "        vertical-align: middle;\n",
       "    }\n",
       "\n",
       "    .dataframe tbody tr th {\n",
       "        vertical-align: top;\n",
       "    }\n",
       "\n",
       "    .dataframe thead th {\n",
       "        text-align: right;\n",
       "    }\n",
       "</style>\n",
       "<table border=\"1\" class=\"dataframe\">\n",
       "  <thead>\n",
       "    <tr style=\"text-align: right;\">\n",
       "      <th></th>\n",
       "      <th>State</th>\n",
       "      <th>Year</th>\n",
       "      <th>Quater</th>\n",
       "      <th>Registered_Users</th>\n",
       "      <th>App_opens</th>\n",
       "      <th>Brand</th>\n",
       "      <th>Count</th>\n",
       "      <th>Percentage</th>\n",
       "    </tr>\n",
       "  </thead>\n",
       "  <tbody>\n",
       "    <tr>\n",
       "      <th>0</th>\n",
       "      <td>andaman-&amp;-nicobar-islands</td>\n",
       "      <td>2018</td>\n",
       "      <td>1</td>\n",
       "      <td>6740</td>\n",
       "      <td>0</td>\n",
       "      <td>Xiaomi</td>\n",
       "      <td>1665</td>\n",
       "      <td>0.247033</td>\n",
       "    </tr>\n",
       "    <tr>\n",
       "      <th>1</th>\n",
       "      <td>andaman-&amp;-nicobar-islands</td>\n",
       "      <td>2018</td>\n",
       "      <td>1</td>\n",
       "      <td>6740</td>\n",
       "      <td>0</td>\n",
       "      <td>Samsung</td>\n",
       "      <td>1445</td>\n",
       "      <td>0.214392</td>\n",
       "    </tr>\n",
       "    <tr>\n",
       "      <th>2</th>\n",
       "      <td>andaman-&amp;-nicobar-islands</td>\n",
       "      <td>2018</td>\n",
       "      <td>1</td>\n",
       "      <td>6740</td>\n",
       "      <td>0</td>\n",
       "      <td>Vivo</td>\n",
       "      <td>982</td>\n",
       "      <td>0.145697</td>\n",
       "    </tr>\n",
       "    <tr>\n",
       "      <th>3</th>\n",
       "      <td>andaman-&amp;-nicobar-islands</td>\n",
       "      <td>2018</td>\n",
       "      <td>1</td>\n",
       "      <td>6740</td>\n",
       "      <td>0</td>\n",
       "      <td>Oppo</td>\n",
       "      <td>501</td>\n",
       "      <td>0.074332</td>\n",
       "    </tr>\n",
       "    <tr>\n",
       "      <th>4</th>\n",
       "      <td>andaman-&amp;-nicobar-islands</td>\n",
       "      <td>2018</td>\n",
       "      <td>1</td>\n",
       "      <td>6740</td>\n",
       "      <td>0</td>\n",
       "      <td>OnePlus</td>\n",
       "      <td>332</td>\n",
       "      <td>0.049258</td>\n",
       "    </tr>\n",
       "    <tr>\n",
       "      <th>...</th>\n",
       "      <td>...</td>\n",
       "      <td>...</td>\n",
       "      <td>...</td>\n",
       "      <td>...</td>\n",
       "      <td>...</td>\n",
       "      <td>...</td>\n",
       "      <td>...</td>\n",
       "      <td>...</td>\n",
       "    </tr>\n",
       "    <tr>\n",
       "      <th>6727</th>\n",
       "      <td>west-bengal</td>\n",
       "      <td>2022</td>\n",
       "      <td>1</td>\n",
       "      <td>21919787</td>\n",
       "      <td>236131065</td>\n",
       "      <td>Lenovo</td>\n",
       "      <td>330017</td>\n",
       "      <td>0.015056</td>\n",
       "    </tr>\n",
       "    <tr>\n",
       "      <th>6728</th>\n",
       "      <td>west-bengal</td>\n",
       "      <td>2022</td>\n",
       "      <td>1</td>\n",
       "      <td>21919787</td>\n",
       "      <td>236131065</td>\n",
       "      <td>Infinix</td>\n",
       "      <td>284678</td>\n",
       "      <td>0.012987</td>\n",
       "    </tr>\n",
       "    <tr>\n",
       "      <th>6729</th>\n",
       "      <td>west-bengal</td>\n",
       "      <td>2022</td>\n",
       "      <td>1</td>\n",
       "      <td>21919787</td>\n",
       "      <td>236131065</td>\n",
       "      <td>Asus</td>\n",
       "      <td>280347</td>\n",
       "      <td>0.012790</td>\n",
       "    </tr>\n",
       "    <tr>\n",
       "      <th>6730</th>\n",
       "      <td>west-bengal</td>\n",
       "      <td>2022</td>\n",
       "      <td>1</td>\n",
       "      <td>21919787</td>\n",
       "      <td>236131065</td>\n",
       "      <td>Apple</td>\n",
       "      <td>277752</td>\n",
       "      <td>0.012671</td>\n",
       "    </tr>\n",
       "    <tr>\n",
       "      <th>6731</th>\n",
       "      <td>west-bengal</td>\n",
       "      <td>2022</td>\n",
       "      <td>1</td>\n",
       "      <td>21919787</td>\n",
       "      <td>236131065</td>\n",
       "      <td>Others</td>\n",
       "      <td>2196334</td>\n",
       "      <td>0.100199</td>\n",
       "    </tr>\n",
       "  </tbody>\n",
       "</table>\n",
       "<p>6732 rows × 8 columns</p>\n",
       "</div>"
      ],
      "text/plain": [
       "                          State  Year  Quater  Registered_Users  App_opens  \\\n",
       "0     andaman-&-nicobar-islands  2018       1              6740          0   \n",
       "1     andaman-&-nicobar-islands  2018       1              6740          0   \n",
       "2     andaman-&-nicobar-islands  2018       1              6740          0   \n",
       "3     andaman-&-nicobar-islands  2018       1              6740          0   \n",
       "4     andaman-&-nicobar-islands  2018       1              6740          0   \n",
       "...                         ...   ...     ...               ...        ...   \n",
       "6727                west-bengal  2022       1          21919787  236131065   \n",
       "6728                west-bengal  2022       1          21919787  236131065   \n",
       "6729                west-bengal  2022       1          21919787  236131065   \n",
       "6730                west-bengal  2022       1          21919787  236131065   \n",
       "6731                west-bengal  2022       1          21919787  236131065   \n",
       "\n",
       "        Brand    Count  Percentage  \n",
       "0      Xiaomi     1665    0.247033  \n",
       "1     Samsung     1445    0.214392  \n",
       "2        Vivo      982    0.145697  \n",
       "3        Oppo      501    0.074332  \n",
       "4     OnePlus      332    0.049258  \n",
       "...       ...      ...         ...  \n",
       "6727   Lenovo   330017    0.015056  \n",
       "6728  Infinix   284678    0.012987  \n",
       "6729     Asus   280347    0.012790  \n",
       "6730    Apple   277752    0.012671  \n",
       "6731   Others  2196334    0.100199  \n",
       "\n",
       "[6732 rows x 8 columns]"
      ]
     },
     "execution_count": 9,
     "metadata": {},
     "output_type": "execute_result"
    }
   ],
   "source": [
    "Aggr_Users = pd.DataFrame(clm)\n",
    "Aggr_Users"
   ]
  },
  {
   "cell_type": "markdown",
   "id": "ad8f9647",
   "metadata": {},
   "source": [
    "Connect to MYSQL"
   ]
  },
  {
   "cell_type": "code",
   "execution_count": 10,
   "id": "b2bfd4c0",
   "metadata": {},
   "outputs": [],
   "source": [
    "import mysql.connector"
   ]
  },
  {
   "cell_type": "code",
   "execution_count": 11,
   "id": "aa4a1642",
   "metadata": {},
   "outputs": [
    {
     "name": "stdout",
     "output_type": "stream",
     "text": [
      "PyMySQL connection established!\n"
     ]
    }
   ],
   "source": [
    "import pymysql\n",
    "\n",
    "conn_pymysql = pymysql.connect(\n",
    "    host=\"localhost\",\n",
    "    user=\"root\",\n",
    "    password=\"root123\",\n",
    ")\n",
    "cursor_pymysql = conn_pymysql.cursor()\n",
    "print(\"PyMySQL connection established!\")"
   ]
  },
  {
   "cell_type": "code",
   "execution_count": 14,
   "id": "e8f43686",
   "metadata": {},
   "outputs": [
    {
     "name": "stdout",
     "output_type": "stream",
     "text": [
      "Table created!\n"
     ]
    }
   ],
   "source": [
    "cursor_pymysql.execute(\"\"\"USE PHONEPE_INSURANCE;\"\"\")\n",
    "cursor_pymysql.execute(\"\"\"CREATE TABLE Users(State varchar(256),Year int,Quater int,Registered_users bigint,App_opens bigint,Brand varchar(256),Count bigint,Percentage float);\"\"\")\n",
    "print('Table created!')"
   ]
  },
  {
   "cell_type": "code",
   "execution_count": 16,
   "id": "0d581223",
   "metadata": {},
   "outputs": [
    {
     "name": "stdout",
     "output_type": "stream",
     "text": [
      "Data inserted using to_list()\n"
     ]
    }
   ],
   "source": [
    "data_list = Aggr_Users.values.tolist()\n",
    "query = \"\"\"\n",
    "    INSERT INTO Users(State,Year,Quater,Registered_users,App_opens,Brand,Count,Percentage)\n",
    "    VALUES (%s, %s, %s, %s, %s, %s, %s, %s);\n",
    "\"\"\"\n",
    "cursor_pymysql.executemany(query, data_list)\n",
    "conn_pymysql.commit()\n",
    "print(\"Data inserted using to_list()\")"
   ]
  },
  {
   "cell_type": "code",
   "execution_count": null,
   "id": "3dc28204",
   "metadata": {},
   "outputs": [],
   "source": []
  }
 ],
 "metadata": {
  "kernelspec": {
   "display_name": "base",
   "language": "python",
   "name": "python3"
  },
  "language_info": {
   "codemirror_mode": {
    "name": "ipython",
    "version": 3
   },
   "file_extension": ".py",
   "mimetype": "text/x-python",
   "name": "python",
   "nbconvert_exporter": "python",
   "pygments_lexer": "ipython3",
   "version": "3.12.7"
  }
 },
 "nbformat": 4,
 "nbformat_minor": 5
}
