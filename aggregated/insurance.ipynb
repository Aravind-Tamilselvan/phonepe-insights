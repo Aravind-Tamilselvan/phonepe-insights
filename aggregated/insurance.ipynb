{
 "cells": [
  {
   "cell_type": "markdown",
   "id": "b0bf5cbb",
   "metadata": {},
   "source": [
    "Phonepe Insurance DataSet"
   ]
  },
  {
   "cell_type": "code",
   "execution_count": 8,
   "id": "19080813",
   "metadata": {},
   "outputs": [],
   "source": [
    "import pandas as pd\n",
    "import os\n",
    "import json"
   ]
  },
  {
   "cell_type": "code",
   "execution_count": 9,
   "id": "0db5dc99",
   "metadata": {},
   "outputs": [],
   "source": [
    "path = \"./pulse/data/aggregated/insurance/country/india/state\"\n",
    "Aggr_list_path = os.listdir(path)"
   ]
  },
  {
   "cell_type": "code",
   "execution_count": 11,
   "id": "30f03d3d",
   "metadata": {},
   "outputs": [],
   "source": [
    "clm = {'State':[], 'Year':[],'Quater':[],'Transaction_name':[],'Transacion_type':[], 'Transacion_count':[], 'Transacion_amount':[]}\n",
    "for i in Aggr_list_path:\n",
    "    path_i = path + '/' + i\n",
    "    Aggr_path_i = os.listdir(path_i)\n",
    "    for j in Aggr_path_i:\n",
    "        path_j = path_i + '/' + j\n",
    "        Aggr_path_j = os.listdir(path_j)\n",
    "        for k in Aggr_path_j :\n",
    "            path_k = path_j + '/' + k\n",
    "            Data = open(path_k,'r')\n",
    "            D = json.load(Data)\n",
    "            for z in D['data']['transactionData']:\n",
    "              Name=z['name']\n",
    "              Type = z['paymentInstruments'][0]['type']\n",
    "              count=z['paymentInstruments'][0]['count']\n",
    "              amount=z['paymentInstruments'][0]['amount']\n",
    "              clm['Transaction_name'].append(Name)\n",
    "              clm['Transacion_type'].append(Type)\n",
    "              clm['Transacion_count'].append(count)\n",
    "              clm['Transacion_amount'].append(amount)\n",
    "              clm['State'].append(i)\n",
    "              clm['Year'].append(j)\n",
    "              clm['Quater'].append(int(k.strip('.json')))\n",
    "            "
   ]
  },
  {
   "cell_type": "code",
   "execution_count": null,
   "id": "afde2af2",
   "metadata": {},
   "outputs": [
    {
     "data": {
      "text/html": [
       "<div>\n",
       "<style scoped>\n",
       "    .dataframe tbody tr th:only-of-type {\n",
       "        vertical-align: middle;\n",
       "    }\n",
       "\n",
       "    .dataframe tbody tr th {\n",
       "        vertical-align: top;\n",
       "    }\n",
       "\n",
       "    .dataframe thead th {\n",
       "        text-align: right;\n",
       "    }\n",
       "</style>\n",
       "<table border=\"1\" class=\"dataframe\">\n",
       "  <thead>\n",
       "    <tr style=\"text-align: right;\">\n",
       "      <th></th>\n",
       "      <th>State</th>\n",
       "      <th>Year</th>\n",
       "      <th>Quater</th>\n",
       "      <th>Transaction_name</th>\n",
       "      <th>Transacion_type</th>\n",
       "      <th>Transacion_count</th>\n",
       "      <th>Transacion_amount</th>\n",
       "    </tr>\n",
       "  </thead>\n",
       "  <tbody>\n",
       "    <tr>\n",
       "      <th>0</th>\n",
       "      <td>andaman-&amp;-nicobar-islands</td>\n",
       "      <td>2020</td>\n",
       "      <td>2</td>\n",
       "      <td>Insurance</td>\n",
       "      <td>TOTAL</td>\n",
       "      <td>6</td>\n",
       "      <td>1360.0</td>\n",
       "    </tr>\n",
       "    <tr>\n",
       "      <th>1</th>\n",
       "      <td>andaman-&amp;-nicobar-islands</td>\n",
       "      <td>2020</td>\n",
       "      <td>3</td>\n",
       "      <td>Insurance</td>\n",
       "      <td>TOTAL</td>\n",
       "      <td>41</td>\n",
       "      <td>15380.0</td>\n",
       "    </tr>\n",
       "    <tr>\n",
       "      <th>2</th>\n",
       "      <td>andaman-&amp;-nicobar-islands</td>\n",
       "      <td>2020</td>\n",
       "      <td>4</td>\n",
       "      <td>Insurance</td>\n",
       "      <td>TOTAL</td>\n",
       "      <td>124</td>\n",
       "      <td>157975.0</td>\n",
       "    </tr>\n",
       "    <tr>\n",
       "      <th>3</th>\n",
       "      <td>andaman-&amp;-nicobar-islands</td>\n",
       "      <td>2021</td>\n",
       "      <td>1</td>\n",
       "      <td>Insurance</td>\n",
       "      <td>TOTAL</td>\n",
       "      <td>225</td>\n",
       "      <td>244266.0</td>\n",
       "    </tr>\n",
       "    <tr>\n",
       "      <th>4</th>\n",
       "      <td>andaman-&amp;-nicobar-islands</td>\n",
       "      <td>2021</td>\n",
       "      <td>2</td>\n",
       "      <td>Insurance</td>\n",
       "      <td>TOTAL</td>\n",
       "      <td>137</td>\n",
       "      <td>181504.0</td>\n",
       "    </tr>\n",
       "    <tr>\n",
       "      <th>...</th>\n",
       "      <td>...</td>\n",
       "      <td>...</td>\n",
       "      <td>...</td>\n",
       "      <td>...</td>\n",
       "      <td>...</td>\n",
       "      <td>...</td>\n",
       "      <td>...</td>\n",
       "    </tr>\n",
       "    <tr>\n",
       "      <th>677</th>\n",
       "      <td>west-bengal</td>\n",
       "      <td>2023</td>\n",
       "      <td>4</td>\n",
       "      <td>Insurance</td>\n",
       "      <td>TOTAL</td>\n",
       "      <td>72712</td>\n",
       "      <td>100365562.0</td>\n",
       "    </tr>\n",
       "    <tr>\n",
       "      <th>678</th>\n",
       "      <td>west-bengal</td>\n",
       "      <td>2024</td>\n",
       "      <td>1</td>\n",
       "      <td>Insurance</td>\n",
       "      <td>TOTAL</td>\n",
       "      <td>79576</td>\n",
       "      <td>104987909.0</td>\n",
       "    </tr>\n",
       "    <tr>\n",
       "      <th>679</th>\n",
       "      <td>west-bengal</td>\n",
       "      <td>2024</td>\n",
       "      <td>2</td>\n",
       "      <td>Insurance</td>\n",
       "      <td>TOTAL</td>\n",
       "      <td>67048</td>\n",
       "      <td>89476633.0</td>\n",
       "    </tr>\n",
       "    <tr>\n",
       "      <th>680</th>\n",
       "      <td>west-bengal</td>\n",
       "      <td>2024</td>\n",
       "      <td>3</td>\n",
       "      <td>Insurance</td>\n",
       "      <td>TOTAL</td>\n",
       "      <td>77158</td>\n",
       "      <td>107451766.0</td>\n",
       "    </tr>\n",
       "    <tr>\n",
       "      <th>681</th>\n",
       "      <td>west-bengal</td>\n",
       "      <td>2024</td>\n",
       "      <td>4</td>\n",
       "      <td>Insurance</td>\n",
       "      <td>TOTAL</td>\n",
       "      <td>91719</td>\n",
       "      <td>120602777.0</td>\n",
       "    </tr>\n",
       "  </tbody>\n",
       "</table>\n",
       "<p>682 rows × 7 columns</p>\n",
       "</div>"
      ],
      "text/plain": [
       "                         State  Year  Quater Transaction_name Transacion_type  \\\n",
       "0    andaman-&-nicobar-islands  2020       2        Insurance           TOTAL   \n",
       "1    andaman-&-nicobar-islands  2020       3        Insurance           TOTAL   \n",
       "2    andaman-&-nicobar-islands  2020       4        Insurance           TOTAL   \n",
       "3    andaman-&-nicobar-islands  2021       1        Insurance           TOTAL   \n",
       "4    andaman-&-nicobar-islands  2021       2        Insurance           TOTAL   \n",
       "..                         ...   ...     ...              ...             ...   \n",
       "677                west-bengal  2023       4        Insurance           TOTAL   \n",
       "678                west-bengal  2024       1        Insurance           TOTAL   \n",
       "679                west-bengal  2024       2        Insurance           TOTAL   \n",
       "680                west-bengal  2024       3        Insurance           TOTAL   \n",
       "681                west-bengal  2024       4        Insurance           TOTAL   \n",
       "\n",
       "     Transacion_count  Transacion_amount  \n",
       "0                   6             1360.0  \n",
       "1                  41            15380.0  \n",
       "2                 124           157975.0  \n",
       "3                 225           244266.0  \n",
       "4                 137           181504.0  \n",
       "..                ...                ...  \n",
       "677             72712        100365562.0  \n",
       "678             79576        104987909.0  \n",
       "679             67048         89476633.0  \n",
       "680             77158        107451766.0  \n",
       "681             91719        120602777.0  \n",
       "\n",
       "[682 rows x 7 columns]"
      ]
     },
     "execution_count": 13,
     "metadata": {},
     "output_type": "execute_result"
    }
   ],
   "source": [
    "Agg_Insurance = pd.DataFrame(clm)\n",
    "Agg_Insurance"
   ]
  },
  {
   "cell_type": "markdown",
   "id": "e25596ad",
   "metadata": {},
   "source": [
    "Connect to MySQL"
   ]
  },
  {
   "cell_type": "code",
   "execution_count": 25,
   "id": "81405d0a",
   "metadata": {},
   "outputs": [
    {
     "name": "stdout",
     "output_type": "stream",
     "text": [
      "Requirement already satisfied: mysql-connector-python in c:\\users\\aravi\\anaconda3\\lib\\site-packages (9.3.0)\n"
     ]
    }
   ],
   "source": [
    "!pip install --upgrade mysql-connector-python"
   ]
  },
  {
   "cell_type": "code",
   "execution_count": 26,
   "id": "7a640779",
   "metadata": {},
   "outputs": [],
   "source": [
    "import mysql.connector"
   ]
  },
  {
   "cell_type": "code",
   "execution_count": 29,
   "id": "1b1bfe1d",
   "metadata": {},
   "outputs": [
    {
     "name": "stdout",
     "output_type": "stream",
     "text": [
      "PyMySQL connection established!\n"
     ]
    }
   ],
   "source": [
    "import pymysql\n",
    "\n",
    "conn_pymysql = pymysql.connect(\n",
    "    host=\"localhost\",\n",
    "    user=\"root\",\n",
    "    password=\"root123\",\n",
    ")\n",
    "cursor_pymysql = conn_pymysql.cursor()\n",
    "print(\"PyMySQL connection established!\")"
   ]
  },
  {
   "cell_type": "code",
   "execution_count": 30,
   "id": "50bff4bf",
   "metadata": {},
   "outputs": [
    {
     "name": "stdout",
     "output_type": "stream",
     "text": [
      "Database created successfully!\n"
     ]
    }
   ],
   "source": [
    "cursor_pymysql.execute(\"\"\"CREATE DATABASE PHONEPE_INSURANCE;\"\"\")\n",
    "print(\"Database created successfully!\")"
   ]
  },
  {
   "cell_type": "code",
   "execution_count": 32,
   "id": "a7fa3460",
   "metadata": {},
   "outputs": [
    {
     "name": "stdout",
     "output_type": "stream",
     "text": [
      "Table created!\n"
     ]
    }
   ],
   "source": [
    "cursor_pymysql.execute(\"\"\"USE PHONEPE_INSURANCE;\"\"\")\n",
    "cursor_pymysql.execute(\"\"\"CREATE TABLE Insurance(State varchar(256),Year int,Quater int,Transaction_name varchar(256),Transaction_type varchar(256),Transaction_count bigint unsigned,Transaction_amount bigint);\"\"\")\n",
    "print('Table created!')"
   ]
  },
  {
   "cell_type": "code",
   "execution_count": 34,
   "id": "dfb6280f",
   "metadata": {},
   "outputs": [
    {
     "name": "stdout",
     "output_type": "stream",
     "text": [
      "Data inserted using to_list()\n"
     ]
    }
   ],
   "source": [
    "data_list = Agg_Insurance.values.tolist()\n",
    "query = \"\"\"\n",
    "    INSERT INTO Insurance (State,Year,Quater,Transaction_name,Transaction_type,Transaction_count,Transaction_amount)\n",
    "    VALUES (%s, %s, %s, %s, %s, %s, %s);\n",
    "\"\"\"\n",
    "cursor_pymysql.executemany(query, data_list)\n",
    "conn_pymysql.commit()\n",
    "print(\"Data inserted using to_list()\")"
   ]
  },
  {
   "cell_type": "code",
   "execution_count": null,
   "id": "c2c7651f",
   "metadata": {},
   "outputs": [],
   "source": []
  }
 ],
 "metadata": {
  "kernelspec": {
   "display_name": "base",
   "language": "python",
   "name": "python3"
  },
  "language_info": {
   "codemirror_mode": {
    "name": "ipython",
    "version": 3
   },
   "file_extension": ".py",
   "mimetype": "text/x-python",
   "name": "python",
   "nbconvert_exporter": "python",
   "pygments_lexer": "ipython3",
   "version": "3.12.7"
  }
 },
 "nbformat": 4,
 "nbformat_minor": 5
}
