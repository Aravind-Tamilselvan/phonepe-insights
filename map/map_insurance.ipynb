{
 "cells": [
  {
   "cell_type": "code",
   "execution_count": 1,
   "id": "fd99b6a6",
   "metadata": {},
   "outputs": [
    {
     "name": "stdout",
     "output_type": "stream",
     "text": [
      "                           State             state_or_district_name  Year  \\\n",
      "0      andaman-&-nicobar-islands             south andaman district  2020   \n",
      "1      andaman-&-nicobar-islands                  nicobars district  2020   \n",
      "2      andaman-&-nicobar-islands  north and middle andaman district  2020   \n",
      "3      andaman-&-nicobar-islands             south andaman district  2020   \n",
      "4      andaman-&-nicobar-islands                  nicobars district  2020   \n",
      "...                          ...                                ...   ...   \n",
      "13871                west-bengal                alipurduar district  2024   \n",
      "13872                west-bengal         paschim bardhaman district  2024   \n",
      "13873                west-bengal                     nadia district  2024   \n",
      "13874                west-bengal                   birbhum district  2024   \n",
      "13875                west-bengal           purba medinipur district  2024   \n",
      "\n",
      "       Quater Transacion_type  count  Transacion_amount  \n",
      "0           2           TOTAL      3              795.0  \n",
      "1           2           TOTAL      3              565.0  \n",
      "2           3           TOTAL      1              281.0  \n",
      "3           3           TOTAL     35            13651.0  \n",
      "4           3           TOTAL      5             1448.0  \n",
      "...       ...             ...    ...                ...  \n",
      "13871       4           TOTAL   1023          1613143.0  \n",
      "13872       4           TOTAL   4945          7005851.0  \n",
      "13873       4           TOTAL   3807          5031294.0  \n",
      "13874       4           TOTAL   1818          2423290.0  \n",
      "13875       4           TOTAL   3559          4439061.0  \n",
      "\n",
      "[13876 rows x 7 columns]\n"
     ]
    }
   ],
   "source": [
    "import pandas as pd\n",
    "import json\n",
    "import os\n",
    "#import mysql.connector\n",
    "\n",
    "\n",
    "\n",
    "path='../pulse/data/map/insurance/hover/country/india/state'\n",
    "map_insurance=os.listdir(path)\n",
    "map_insurance\n",
    "\n",
    "\n",
    "clm={'State':[],'state_or_district_name':[], 'Year':[],'Quater':[],'Transacion_type':[], 'count':[], 'Transacion_amount':[]}\n",
    "\n",
    "for i in map_insurance:\n",
    "    p_i=os.path.join(path, i)\n",
    "    Agg_yr=os.listdir(p_i)\n",
    "    for j in Agg_yr:\n",
    "        \n",
    "        p_j=os.path.join(p_i, j)\n",
    "        Agg_yr_list=os.listdir(p_j)\n",
    "        for k in Agg_yr_list:\n",
    "           \n",
    "            \n",
    "            p_k = os.path.join(p_j, k)\n",
    "            \n",
    "            with open(p_k, 'r') as Data:\n",
    "                D = json.load(Data)\n",
    "            for z in D['data']['hoverDataList']:\n",
    "              Name=z['name']\n",
    "              type_=z['metric'][0]['type']\n",
    "              count=z['metric'][0]['count']\n",
    "              amount=z['metric'][0]['amount']\n",
    "              clm['state_or_district_name'].append(Name)\n",
    "              clm['Transacion_type'].append(type_)\n",
    "              clm['count'].append(count)\n",
    "              clm['Transacion_amount'].append(amount)\n",
    "              clm['State'].append(i)\n",
    "              clm['Year'].append(j)\n",
    "              clm['Quater'].append(int(k.strip('.json')))\n",
    "#Succesfully created a dataframe\n",
    "map_insu=pd.DataFrame(clm)\n",
    "print(map_insu)"
   ]
  },
  {
   "cell_type": "code",
   "execution_count": 3,
   "id": "310fd9ae",
   "metadata": {},
   "outputs": [
    {
     "name": "stdout",
     "output_type": "stream",
     "text": [
      "PyMySQL connection established!\n",
      "Table 'map_insurance_data' created successfully in MySQL!\n"
     ]
    }
   ],
   "source": [
    "import pymysql\n",
    "conn_pymysql = pymysql.connect(\n",
    "    host=\"localhost\",\n",
    "    user=\"root\",\n",
    "    password=\"root123\",\n",
    ")\n",
    "cursor_mysql = conn_pymysql.cursor()\n",
    "print(\"PyMySQL connection established!\")\n",
    "\n",
    "\n",
    "cursor_mysql.execute(\"USE PHONEPE_INSURANCE;\")  # Select database\n",
    "cursor_mysql.execute(\"\"\"\n",
    "    CREATE TABLE IF NOT EXISTS map_insurance_data (\n",
    "        state VARCHAR(255),\n",
    "        state_or_district_name VARCHAR(255),\n",
    "        year int,\n",
    "        quater int,\n",
    "        Transacion_type VARCHAR(255),\n",
    "        count BIGINT UNSIGNED,\n",
    "        Transacion_amount BIGINT UNSIGNED\n",
    "    );\n",
    "\"\"\")\n",
    "conn_pymysql.commit()\n",
    "print(\"Table 'map_insurance_data' created successfully in MySQL!\")"
   ]
  },
  {
   "cell_type": "code",
   "execution_count": 5,
   "id": "96a071f3",
   "metadata": {},
   "outputs": [
    {
     "name": "stdout",
     "output_type": "stream",
     "text": [
      "Data inserted using to_list()\n"
     ]
    }
   ],
   "source": [
    "data_list = map_insu.values.tolist()\n",
    "query = \"\"\"\n",
    "    INSERT INTO map_insurance_data(state,state_or_district_name, year, quater, Transacion_type, count, Transacion_amount)\n",
    "    VALUES (%s, %s, %s, %s, %s, %s, %s);\n",
    "\"\"\"\n",
    "cursor_mysql.executemany(query, data_list)\n",
    "conn_pymysql.commit()\n",
    "print(\"Data inserted using to_list()\")"
   ]
  },
  {
   "cell_type": "code",
   "execution_count": null,
   "id": "c50ea822",
   "metadata": {},
   "outputs": [],
   "source": []
  }
 ],
 "metadata": {
  "kernelspec": {
   "display_name": "base",
   "language": "python",
   "name": "python3"
  },
  "language_info": {
   "codemirror_mode": {
    "name": "ipython",
    "version": 3
   },
   "file_extension": ".py",
   "mimetype": "text/x-python",
   "name": "python",
   "nbconvert_exporter": "python",
   "pygments_lexer": "ipython3",
   "version": "3.12.7"
  }
 },
 "nbformat": 4,
 "nbformat_minor": 5
}
