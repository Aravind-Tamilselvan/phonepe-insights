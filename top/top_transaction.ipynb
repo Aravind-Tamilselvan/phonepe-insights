{
 "cells": [
  {
   "cell_type": "code",
   "execution_count": null,
   "id": "12891a4f",
   "metadata": {},
   "outputs": [],
   "source": [
    "import pandas as pd\n",
    "import json\n",
    "import os\n",
    "#import mysql.connector\n",
    "\n",
    "#This is to direct the path to get the data as states\n",
    "\n",
    "path = '../pulse/data/top/transaction/country/india/state'\n",
    "Agg_state_list=os.listdir(path)\n",
    "Agg_state_list"
   ]
  },
  {
   "cell_type": "code",
   "execution_count": null,
   "id": "aa6b6e55",
   "metadata": {},
   "outputs": [],
   "source": [
    "#<------------------------------------------------------------------------------------------------------------------------------------------------------------------------------------------------------------>#\n",
    "\n",
    "#This is to extract the data's to create a dataframe\n",
    "\n",
    "district_clm={'State':[] ,'Year':[],'Quater':[],'District_name':[],'District_Transaction_type':[],'District_Transaction_count':[],'District_Transaction_amount':[]}\n",
    "\n",
    "pincode_clm = {'State':[] ,'Year':[],'Quater':[],'Pincode':[],'Pincode_Transaction_type':[],'Pincode_Transaction_count':[],'Pincode_Transaction_amount':[]}\n",
    "\n",
    "for i in Agg_state_list:\n",
    "    #p_i=os.path+i+\"/\"\n",
    "    p_i=os.path.join(path, i)\n",
    "    Agg_yr=os.listdir(p_i)\n",
    "    for j in Agg_yr:\n",
    "        #p_j=p_i+j+\"/\"\n",
    "        p_j=os.path.join(p_i, j)\n",
    "        Agg_yr_list=os.listdir(p_j)\n",
    "        for k in Agg_yr_list:\n",
    "            # p_k=p_j+k\n",
    "            # Data=open(p_k,'r')\n",
    "            p_k = os.path.join(p_j, k)\n",
    "            # D=json.load(Data)\n",
    "            with open(p_k, 'r') as Data:\n",
    "                D = json.load(Data)\n",
    "            for x,y in D['data'].items():\n",
    "                if x == 'districts' and y :\n",
    "                    for m in y:\n",
    "                        district_clm['State'].append(i)\n",
    "                        district_clm['Year'].append(j)\n",
    "                        district_clm['Quater'].append(int(k.strip('.json')))\n",
    "                        district_clm['District_name'].append(m['entityName'])\n",
    "                        district_clm['District_Transaction_type'].append(m['metric']['type'])\n",
    "                        district_clm['District_Transaction_count'].append(m['metric']['count'])\n",
    "                        district_clm['District_Transaction_amount'].append(m['metric']['amount'])\n",
    "                elif x =='pincodes' and y:\n",
    "                    for l in y:\n",
    "                        pincode_clm['State'].append(i)\n",
    "                        pincode_clm['Year'].append(j)\n",
    "                        pincode_clm['Quater'].append(int(k.strip('.json')))\n",
    "                        pincode_clm['Pincode'].append(l['entityName'])\n",
    "                        pincode_clm['Pincode_Transaction_type'].append(l['metric']['type'])\n",
    "                        pincode_clm['Pincode_Transaction_count'].append(l['metric']['count'])\n",
    "                        pincode_clm['Pincode_Transaction_amount'].append(l['metric']['amount'])\n",
    "#Succesfully created a dataframe\n",
    "top_transaction_district=pd.DataFrame(district_clm)\n",
    "top_transaction_pincode =pd.DataFrame(pincode_clm)"
   ]
  },
  {
   "cell_type": "code",
   "execution_count": null,
   "id": "013f8be1",
   "metadata": {},
   "outputs": [],
   "source": [
    "top_transaction_pincode"
   ]
  },
  {
   "cell_type": "code",
   "execution_count": null,
   "id": "1f4492f9",
   "metadata": {},
   "outputs": [],
   "source": [
    "top_transaction_district"
   ]
  },
  {
   "cell_type": "code",
   "execution_count": null,
   "id": "ccee6530",
   "metadata": {},
   "outputs": [],
   "source": [
    "import pymysql\n",
    "conn_pymysql = pymysql.connect(\n",
    "    host=\"localhost\",\n",
    "    user=\"root\",\n",
    "    password=\"root123\",\n",
    ")\n",
    "cursor_pymysql = conn_pymysql.cursor()\n",
    "print(\"PyMySQL connection established!\")"
   ]
  },
  {
   "cell_type": "markdown",
   "id": "f6be11e4",
   "metadata": {},
   "source": [
    "Top Transactions District Table"
   ]
  },
  {
   "cell_type": "code",
   "execution_count": null,
   "id": "7d6534dc",
   "metadata": {},
   "outputs": [],
   "source": [
    "cursor_pymysql.execute(\"\"\"USE PHONEPE_INSURANCE;\"\"\")\n",
    "cursor_pymysql.execute(\"\"\"CREATE TABLE Top_transactions_district(State varchar(256),Year int,Quater int,District_name varchar(256), District_Transaction_type varchar(256), District_Transaction_count bigint, District_Transaction_amount bigint);\"\"\")\n",
    "print('Table created!')"
   ]
  },
  {
   "cell_type": "code",
   "execution_count": null,
   "id": "c726b9d2",
   "metadata": {},
   "outputs": [],
   "source": [
    "data_list = top_transaction_district.values.tolist()\n",
    "query = \"\"\"\n",
    "    INSERT INTO top_transactions_district(State,Year,Quater,District_name, District_Transaction_type, District_Transaction_count, District_Transaction_amount)\n",
    "    VALUES (%s, %s, %s, %s, %s, %s, %s);\n",
    "\"\"\"\n",
    "cursor_pymysql.executemany(query, data_list)\n",
    "conn_pymysql.commit()\n",
    "print(\"Data inserted using to_list()\")"
   ]
  },
  {
   "cell_type": "markdown",
   "id": "91f36bf9",
   "metadata": {},
   "source": [
    "Top Transaction Pincode"
   ]
  },
  {
   "cell_type": "code",
   "execution_count": null,
   "id": "576111c2",
   "metadata": {},
   "outputs": [],
   "source": [
    "cursor_pymysql.execute(\"\"\"USE PHONEPE_INSURANCE;\"\"\")\n",
    "cursor_pymysql.execute(\"\"\"CREATE TABLE Top_transactions_pincode(State varchar(256),Year int,Quater int,Pincode varchar(256), Pincode_Transaction_type varchar(256), Pincode_Transaction_count bigint, Pincode_Transaction_amount bigint);\"\"\")\n",
    "print('Table created!')"
   ]
  },
  {
   "cell_type": "code",
   "execution_count": null,
   "id": "68a3f5b4",
   "metadata": {},
   "outputs": [],
   "source": [
    "data_list = top_transaction_pincode.values.tolist()\n",
    "query = \"\"\"\n",
    "    INSERT INTO top_transactions_pincode(State,Year,Quater,Pincode, Pincode_Transaction_type, Pincode_Transaction_count, Pincode_Transaction_amount)\n",
    "    VALUES (%s, %s, %s, %s, %s, %s, %s);\n",
    "\"\"\"\n",
    "cursor_pymysql.executemany(query, data_list)\n",
    "conn_pymysql.commit()\n",
    "print(\"Data inserted using to_list()\")"
   ]
  },
  {
   "cell_type": "code",
   "execution_count": null,
   "id": "71463062",
   "metadata": {},
   "outputs": [],
   "source": []
  }
 ],
 "metadata": {
  "kernelspec": {
   "display_name": "base",
   "language": "python",
   "name": "python3"
  },
  "language_info": {
   "codemirror_mode": {
    "name": "ipython",
    "version": 3
   },
   "file_extension": ".py",
   "mimetype": "text/x-python",
   "name": "python",
   "nbconvert_exporter": "python",
   "pygments_lexer": "ipython3",
   "version": "3.12.7"
  }
 },
 "nbformat": 4,
 "nbformat_minor": 5
}
