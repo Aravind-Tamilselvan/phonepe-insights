{
 "cells": [
  {
   "cell_type": "code",
   "execution_count": 3,
   "id": "c1fbd324",
   "metadata": {},
   "outputs": [
    {
     "data": {
      "text/plain": [
       "['andaman-&-nicobar-islands',\n",
       " 'andhra-pradesh',\n",
       " 'arunachal-pradesh',\n",
       " 'assam',\n",
       " 'bihar',\n",
       " 'chandigarh',\n",
       " 'chhattisgarh',\n",
       " 'dadra-&-nagar-haveli-&-daman-&-diu',\n",
       " 'delhi',\n",
       " 'goa',\n",
       " 'gujarat',\n",
       " 'haryana',\n",
       " 'himachal-pradesh',\n",
       " 'jammu-&-kashmir',\n",
       " 'jharkhand',\n",
       " 'karnataka',\n",
       " 'kerala',\n",
       " 'ladakh',\n",
       " 'lakshadweep',\n",
       " 'madhya-pradesh',\n",
       " 'maharashtra',\n",
       " 'manipur',\n",
       " 'meghalaya',\n",
       " 'mizoram',\n",
       " 'nagaland',\n",
       " 'odisha',\n",
       " 'puducherry',\n",
       " 'punjab',\n",
       " 'rajasthan',\n",
       " 'sikkim',\n",
       " 'tamil-nadu',\n",
       " 'telangana',\n",
       " 'tripura',\n",
       " 'uttar-pradesh',\n",
       " 'uttarakhand',\n",
       " 'west-bengal']"
      ]
     },
     "execution_count": 3,
     "metadata": {},
     "output_type": "execute_result"
    }
   ],
   "source": [
    "import pandas as pd\n",
    "import json\n",
    "import os\n",
    "#import mysql.connector\n",
    "\n",
    "#This is to direct the path to get the data as states\n",
    "\n",
    "path = '../pulse/data/top/insurance/country/india/state'\n",
    "Agg_state_list=os.listdir(path)\n",
    "Agg_state_list"
   ]
  },
  {
   "cell_type": "code",
   "execution_count": 5,
   "id": "a68d1ba6",
   "metadata": {},
   "outputs": [],
   "source": [
    "district_clm={'State':[] ,'Year':[],'Quater':[],'District_name':[],'District_Insurance_type':[],'District_Insurance_count':[],'District_Insurance_amount':[]}\n",
    "\n",
    "pincode_clm = {'State':[] ,'Year':[],'Quater':[],'Pincode':[],'Pincode_Insurance_type':[],'Pincode_Insurance_count':[],'Pincode_Insurance_amount':[]}\n",
    "\n",
    "for i in Agg_state_list:\n",
    "    #p_i=os.path+i+\"/\"\n",
    "    p_i=os.path.join(path, i)\n",
    "    Agg_yr=os.listdir(p_i)\n",
    "    for j in Agg_yr:\n",
    "        #p_j=p_i+j+\"/\"\n",
    "        p_j=os.path.join(p_i, j)\n",
    "        Agg_yr_list=os.listdir(p_j)\n",
    "        for k in Agg_yr_list:\n",
    "            # p_k=p_j+k\n",
    "            # Data=open(p_k,'r')\n",
    "            p_k = os.path.join(p_j, k)\n",
    "            # D=json.load(Data)\n",
    "            with open(p_k, 'r') as Data:\n",
    "                D = json.load(Data)\n",
    "            for x,y in D['data'].items():\n",
    "                if x == 'districts' and y :\n",
    "                    for m in y:\n",
    "                        district_clm['State'].append(i)\n",
    "                        district_clm['Year'].append(j)\n",
    "                        district_clm['Quater'].append(int(k.strip('.json')))\n",
    "                        district_clm['District_name'].append(m['entityName'])\n",
    "                        district_clm['District_Insurance_type'].append(m['metric']['type'])\n",
    "                        district_clm['District_Insurance_count'].append(m['metric']['count'])\n",
    "                        district_clm['District_Insurance_amount'].append(m['metric']['amount'])\n",
    "                elif x =='pincodes' and y:\n",
    "                    for l in y:\n",
    "                        pincode_clm['State'].append(i)\n",
    "                        pincode_clm['Year'].append(j)\n",
    "                        pincode_clm['Quater'].append(int(k.strip('.json')))\n",
    "                        pincode_clm['Pincode'].append(l['entityName'])\n",
    "                        pincode_clm['Pincode_Insurance_type'].append(l['metric']['type'])\n",
    "                        pincode_clm['Pincode_Insurance_count'].append(l['metric']['count'])\n",
    "                        pincode_clm['Pincode_Insurance_amount'].append(l['metric']['amount'])\n",
    "#Succesfully created a dataframe\n",
    "top_transaction_district=pd.DataFrame(district_clm)\n",
    "top_transaction_pincode =pd.DataFrame(pincode_clm)"
   ]
  },
  {
   "cell_type": "code",
   "execution_count": 6,
   "id": "1317d0cc",
   "metadata": {},
   "outputs": [
    {
     "name": "stdout",
     "output_type": "stream",
     "text": [
      "PyMySQL connection established!\n"
     ]
    }
   ],
   "source": [
    "import pymysql\n",
    "conn_pymysql = pymysql.connect(\n",
    "    host=\"localhost\",\n",
    "    user=\"root\",\n",
    "    password=\"root123\",\n",
    ")\n",
    "cursor_pymysql = conn_pymysql.cursor()\n",
    "print(\"PyMySQL connection established!\")"
   ]
  },
  {
   "cell_type": "code",
   "execution_count": 7,
   "id": "3f53f4ec",
   "metadata": {},
   "outputs": [
    {
     "name": "stdout",
     "output_type": "stream",
     "text": [
      "Table created!\n"
     ]
    }
   ],
   "source": [
    "cursor_pymysql.execute(\"\"\"USE PHONEPE_INSURANCE;\"\"\")\n",
    "cursor_pymysql.execute(\"\"\"CREATE TABLE Top_Insurance_district(State varchar(256),Year int,Quater int,District_name varchar(256), District_Insurance_type varchar(256), District_Insurance_count bigint, District_Insurance_amount bigint);\"\"\")\n",
    "print('Table created!')"
   ]
  },
  {
   "cell_type": "code",
   "execution_count": 8,
   "id": "bf5f1f5c",
   "metadata": {},
   "outputs": [
    {
     "name": "stdout",
     "output_type": "stream",
     "text": [
      "Data inserted using to_list()\n"
     ]
    }
   ],
   "source": [
    "data_list = top_transaction_district.values.tolist()\n",
    "query = \"\"\"\n",
    "    INSERT INTO top_Insurance_district(State,Year,Quater,District_name, District_Insurance_type, District_Insurance_count, District_Insurance_amount)\n",
    "    VALUES (%s, %s, %s, %s, %s, %s, %s);\n",
    "\"\"\"\n",
    "cursor_pymysql.executemany(query, data_list)\n",
    "conn_pymysql.commit()\n",
    "print(\"Data inserted using to_list()\")"
   ]
  },
  {
   "cell_type": "markdown",
   "id": "04959532",
   "metadata": {},
   "source": [
    "Top insurance pincode"
   ]
  },
  {
   "cell_type": "code",
   "execution_count": 9,
   "id": "0fc22981",
   "metadata": {},
   "outputs": [
    {
     "name": "stdout",
     "output_type": "stream",
     "text": [
      "Table created!\n"
     ]
    }
   ],
   "source": [
    "cursor_pymysql.execute(\"\"\"USE PHONEPE_INSURANCE;\"\"\")\n",
    "cursor_pymysql.execute(\"\"\"CREATE TABLE Top_insurance_pincode(State varchar(256),Year int,Quater int,Pincode varchar(256), Pincode_Insurance_type varchar(256), Pincode_Insurance_count bigint, Pincode_Insurance_amount bigint);\"\"\")\n",
    "print('Table created!')"
   ]
  },
  {
   "cell_type": "code",
   "execution_count": 10,
   "id": "7e791d4e",
   "metadata": {},
   "outputs": [
    {
     "name": "stdout",
     "output_type": "stream",
     "text": [
      "Data inserted using to_list()\n"
     ]
    }
   ],
   "source": [
    "data_list = top_transaction_pincode.values.tolist()\n",
    "query = \"\"\"\n",
    "    INSERT INTO top_insurance_pincode(State,Year,Quater,Pincode, Pincode_Insurance_type, Pincode_Insurance_count, Pincode_Insurance_amount)\n",
    "    VALUES (%s, %s, %s, %s, %s, %s, %s);\n",
    "\"\"\"\n",
    "cursor_pymysql.executemany(query, data_list)\n",
    "conn_pymysql.commit()\n",
    "print(\"Data inserted using to_list()\")"
   ]
  },
  {
   "cell_type": "code",
   "execution_count": null,
   "id": "1ddb1495",
   "metadata": {},
   "outputs": [],
   "source": []
  }
 ],
 "metadata": {
  "kernelspec": {
   "display_name": "base",
   "language": "python",
   "name": "python3"
  },
  "language_info": {
   "codemirror_mode": {
    "name": "ipython",
    "version": 3
   },
   "file_extension": ".py",
   "mimetype": "text/x-python",
   "name": "python",
   "nbconvert_exporter": "python",
   "pygments_lexer": "ipython3",
   "version": "3.12.7"
  }
 },
 "nbformat": 4,
 "nbformat_minor": 5
}
