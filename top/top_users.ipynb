{
 "cells": [
  {
   "cell_type": "code",
   "execution_count": 1,
   "id": "3d5b1ffc",
   "metadata": {},
   "outputs": [
    {
     "data": {
      "text/plain": [
       "['andaman-&-nicobar-islands',\n",
       " 'andhra-pradesh',\n",
       " 'arunachal-pradesh',\n",
       " 'assam',\n",
       " 'bihar',\n",
       " 'chandigarh',\n",
       " 'chhattisgarh',\n",
       " 'dadra-&-nagar-haveli-&-daman-&-diu',\n",
       " 'delhi',\n",
       " 'goa',\n",
       " 'gujarat',\n",
       " 'haryana',\n",
       " 'himachal-pradesh',\n",
       " 'jammu-&-kashmir',\n",
       " 'jharkhand',\n",
       " 'karnataka',\n",
       " 'kerala',\n",
       " 'ladakh',\n",
       " 'lakshadweep',\n",
       " 'madhya-pradesh',\n",
       " 'maharashtra',\n",
       " 'manipur',\n",
       " 'meghalaya',\n",
       " 'mizoram',\n",
       " 'nagaland',\n",
       " 'odisha',\n",
       " 'puducherry',\n",
       " 'punjab',\n",
       " 'rajasthan',\n",
       " 'sikkim',\n",
       " 'tamil-nadu',\n",
       " 'telangana',\n",
       " 'tripura',\n",
       " 'uttar-pradesh',\n",
       " 'uttarakhand',\n",
       " 'west-bengal']"
      ]
     },
     "execution_count": 1,
     "metadata": {},
     "output_type": "execute_result"
    }
   ],
   "source": [
    "import pandas as pd\n",
    "import json\n",
    "import os\n",
    "#import mysql.connector\n",
    "\n",
    "#This is to direct the path to get the data as states\n",
    "\n",
    "path = '../pulse/data/top/user/country/india/state'\n",
    "Agg_state_list=os.listdir(path)\n",
    "Agg_state_list"
   ]
  },
  {
   "cell_type": "code",
   "execution_count": null,
   "id": "dfb3aedf",
   "metadata": {},
   "outputs": [],
   "source": [
    "district_clm={'State':[] ,'Year':[],'Quater':[],'District_name':[],'District_Registered_Users':[]}\n",
    "\n",
    "pincode_clm = {'State':[] ,'Year':[],'Quater':[],'Pincode':[],'Pincode_Registered_Users':[]}\n",
    "\n",
    "for i in Agg_state_list:\n",
    "    #p_i=os.path+i+\"/\"\n",
    "    p_i=os.path.join(path, i)\n",
    "    Agg_yr=os.listdir(p_i)\n",
    "    for j in Agg_yr:\n",
    "        #p_j=p_i+j+\"/\"\n",
    "        p_j=os.path.join(p_i, j)\n",
    "        Agg_yr_list=os.listdir(p_j)\n",
    "        for k in Agg_yr_list:\n",
    "            # p_k=p_j+k\n",
    "            # Data=open(p_k,'r')\n",
    "            p_k = os.path.join(p_j, k)\n",
    "            # D=json.load(Data)\n",
    "            with open(p_k, 'r') as Data:\n",
    "                D = json.load(Data)\n",
    "            for x,y in D['data'].items():\n",
    "                if x == 'districts' and y :\n",
    "                    for m in y:\n",
    "                        district_clm['State'].append(i)\n",
    "                        district_clm['Year'].append(j)\n",
    "                        district_clm['Quater'].append(int(k.strip('.json')))\n",
    "                        district_clm['District_name'].append(m['name'])\n",
    "                        district_clm['District_Registered_Users'].append(m['registeredUsers'])\n",
    "                elif x =='pincodes' and y:\n",
    "                    for l in y:\n",
    "                        pincode_clm['State'].append(i)\n",
    "                        pincode_clm['Year'].append(j)\n",
    "                        pincode_clm['Quater'].append(int(k.strip('.json')))\n",
    "                        pincode_clm['Pincode'].append(l['name'])\n",
    "                        pincode_clm['Pincode_Registered_Users'].append(l['registeredUsers'])\n",
    "#Succesfully created a dataframe\n",
    "top_users_district=pd.DataFrame(district_clm)\n",
    "top_users_pincode =pd.DataFrame(pincode_clm)"
   ]
  },
  {
   "cell_type": "code",
   "execution_count": 3,
   "id": "d9db0cd5",
   "metadata": {},
   "outputs": [
    {
     "name": "stdout",
     "output_type": "stream",
     "text": [
      "PyMySQL connection established!\n"
     ]
    }
   ],
   "source": [
    "import pymysql\n",
    "conn_pymysql = pymysql.connect(\n",
    "    host=\"localhost\",\n",
    "    user=\"root\",\n",
    "    password=\"root123\",\n",
    ")\n",
    "cursor_pymysql = conn_pymysql.cursor()\n",
    "print(\"PyMySQL connection established!\")"
   ]
  },
  {
   "cell_type": "code",
   "execution_count": 4,
   "id": "6cbb470f",
   "metadata": {},
   "outputs": [
    {
     "name": "stdout",
     "output_type": "stream",
     "text": [
      "Table created!\n"
     ]
    }
   ],
   "source": [
    "cursor_pymysql.execute(\"\"\"USE PHONEPE_INSURANCE;\"\"\")\n",
    "cursor_pymysql.execute(\"\"\"CREATE TABLE Top_Users_district(State varchar(256),Year int,Quater int,District_name varchar(256), District_Registered_Users bigint);\"\"\")\n",
    "print('Table created!')"
   ]
  },
  {
   "cell_type": "code",
   "execution_count": 6,
   "id": "edac111a",
   "metadata": {},
   "outputs": [
    {
     "name": "stdout",
     "output_type": "stream",
     "text": [
      "Data inserted using to_list()\n"
     ]
    }
   ],
   "source": [
    "data_list = top_users_district.values.tolist()\n",
    "query = \"\"\"\n",
    "    INSERT INTO top_users_district(State,Year,Quater,District_name, District_Registered_Users)\n",
    "    VALUES (%s, %s, %s, %s, %s);\n",
    "\"\"\"\n",
    "cursor_pymysql.executemany(query, data_list)\n",
    "conn_pymysql.commit()\n",
    "print(\"Data inserted using to_list()\")"
   ]
  },
  {
   "cell_type": "markdown",
   "id": "ae40352b",
   "metadata": {},
   "source": [
    "Top Users pincode"
   ]
  },
  {
   "cell_type": "code",
   "execution_count": 7,
   "id": "8134219f",
   "metadata": {},
   "outputs": [
    {
     "name": "stdout",
     "output_type": "stream",
     "text": [
      "Table created!\n"
     ]
    }
   ],
   "source": [
    "cursor_pymysql.execute(\"\"\"USE PHONEPE_INSURANCE;\"\"\")\n",
    "cursor_pymysql.execute(\"\"\"CREATE TABLE Top_Users_pincode(State varchar(256),Year int,Quater int,Pincode varchar(256), Pincode_Registered_Users bigint);\"\"\")\n",
    "print('Table created!')"
   ]
  },
  {
   "cell_type": "code",
   "execution_count": 8,
   "id": "fcfd5d55",
   "metadata": {},
   "outputs": [
    {
     "name": "stdout",
     "output_type": "stream",
     "text": [
      "Data inserted using to_list()\n"
     ]
    }
   ],
   "source": [
    "data_list = top_users_pincode.values.tolist()\n",
    "query = \"\"\"\n",
    "    INSERT INTO top_users_pincode(State,Year,Quater,Pincode, Pincode_Registered_Users)\n",
    "    VALUES (%s, %s, %s, %s, %s);\n",
    "\"\"\"\n",
    "cursor_pymysql.executemany(query, data_list)\n",
    "conn_pymysql.commit()\n",
    "print(\"Data inserted using to_list()\")"
   ]
  },
  {
   "cell_type": "code",
   "execution_count": null,
   "id": "ad4faac2",
   "metadata": {},
   "outputs": [],
   "source": []
  }
 ],
 "metadata": {
  "kernelspec": {
   "display_name": "base",
   "language": "python",
   "name": "python3"
  },
  "language_info": {
   "codemirror_mode": {
    "name": "ipython",
    "version": 3
   },
   "file_extension": ".py",
   "mimetype": "text/x-python",
   "name": "python",
   "nbconvert_exporter": "python",
   "pygments_lexer": "ipython3",
   "version": "3.12.7"
  }
 },
 "nbformat": 4,
 "nbformat_minor": 5
}
